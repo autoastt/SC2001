{
 "cells": [
  {
   "cell_type": "code",
   "execution_count": 1,
   "id": "2889cd16",
   "metadata": {},
   "outputs": [],
   "source": [
    "import random\n",
    "import matplotlib.pyplot as plt\n",
    "import seaborn as sb"
   ]
  },
  {
   "cell_type": "code",
   "execution_count": 2,
   "id": "d95699a5-5f4b-4da0-a202-b2b2e21fdb10",
   "metadata": {},
   "outputs": [],
   "source": [
    "def insertionSort(A: list) -> tuple:\n",
    "    cnt = 0\n",
    "    for i in range(1, len(A)):\n",
    "        for j in range(i, 0, -1):\n",
    "            # counts key comparisons \n",
    "            cnt += 1\n",
    "            if A[j] < A[j - 1]:\n",
    "                A[j], A[j - 1] = A[j - 1], A[j]\n",
    "            else:\n",
    "                break\n",
    "    return (A, cnt)"
   ]
  },
  {
   "cell_type": "code",
   "execution_count": 3,
   "id": "eedad688-b35b-435c-8b97-349bccd1622b",
   "metadata": {},
   "outputs": [],
   "source": [
    "def merge(A: list, B: list) -> tuple:\n",
    "    # a stores index of A, b stores index of B, cnt is key comparisons\n",
    "    a, b, cnt = 0, 0, 0\n",
    "    ret = []\n",
    "    while a < len(A) and b < len(B):\n",
    "        cnt += 1\n",
    "        if A[a] < B[b]:\n",
    "            ret.append(A[a])\n",
    "            a += 1\n",
    "        else:\n",
    "            ret.append(B[b])\n",
    "            b += 1\n",
    "    while a < len(A):\n",
    "        ret.append(A[a])\n",
    "        a += 1\n",
    "    while b < len(B):\n",
    "        ret.append(B[b])\n",
    "        b += 1\n",
    "    return (ret, cnt)\n",
    "        \n",
    "def mergeSort(A: list) -> tuple:\n",
    "    if len(A) <= 1:\n",
    "        return (A, 0)\n",
    "    l, r = 0, len(A) - 1\n",
    "    mid = (l + r) // 2 + 1\n",
    "    L, cnt_l = mergeSort(A[:mid])\n",
    "    R, cnt_r = mergeSort(A[mid:])\n",
    "    A, cnt_merge = merge(L, R)\n",
    "    return (A, cnt_l + cnt_r + cnt_merge)"
   ]
  },
  {
   "cell_type": "code",
   "execution_count": 4,
   "id": "2a90dbbc-b998-4e86-bc44-00d4609a2fa7",
   "metadata": {},
   "outputs": [],
   "source": [
    "def hybridSort(A: list, S: int) -> tuple:\n",
    "    if len(A) <= S:\n",
    "        return insertionSort(A)\n",
    "    elif len(A) <= 1:\n",
    "        return (A, 0)\n",
    "    l, r = 0, len(A) - 1\n",
    "    mid = (l + r) // 2 + 1\n",
    "    L, cnt_l = hybridSort(A[:mid], S)\n",
    "    R, cnt_r = hybridSort(A[mid:], S)\n",
    "    A, cnt_merge = merge(L, R)\n",
    "    return (A, cnt_l + cnt_r + cnt_merge)"
   ]
  },
  {
   "cell_type": "code",
   "execution_count": 5,
   "id": "948ccf60-80cc-405e-acf5-624ca7ccb1fd",
   "metadata": {},
   "outputs": [],
   "source": [
    "def hybridTest(A: list):\n",
    "    tmp = A.copy()\n",
    "    print(\"S\\tKey Comparisons\")\n",
    "    for s in range(len(A) + 1):\n",
    "        A = tmp\n",
    "        print(f\"{s}\\t{hybridSort(A, s)[1]}\")"
   ]
  },
  {
   "cell_type": "code",
   "execution_count": 6,
   "id": "93f3798b-a8d9-4ec7-a9cd-b62ea93d9270",
   "metadata": {},
   "outputs": [
    {
     "data": {
      "text/plain": [
       "([1, 2, 2, 4, 5], 10)"
      ]
     },
     "execution_count": 6,
     "metadata": {},
     "output_type": "execute_result"
    }
   ],
   "source": [
    "A = [5, 2, 4, 2, 1]\n",
    "insertionSort(A)"
   ]
  },
  {
   "cell_type": "code",
   "execution_count": 7,
   "id": "0073ae62-0237-4216-ad4e-3ad9e7173cff",
   "metadata": {},
   "outputs": [
    {
     "data": {
      "text/plain": [
       "([3, 14, 15, 17, 28, 31, 40, 51], 16)"
      ]
     },
     "execution_count": 7,
     "metadata": {},
     "output_type": "execute_result"
    }
   ],
   "source": [
    "A = [14, 40, 31, 28, 3, 15, 17, 51]\n",
    "mergeSort(A)"
   ]
  },
  {
   "cell_type": "code",
   "execution_count": 8,
   "id": "b826df22-7964-4db3-9e0d-77655ac90ddc",
   "metadata": {},
   "outputs": [
    {
     "name": "stdout",
     "output_type": "stream",
     "text": [
      "S\tKey Comparisons\n",
      "0\t16\n",
      "1\t16\n",
      "2\t16\n",
      "3\t16\n",
      "4\t16\n",
      "5\t16\n",
      "6\t16\n",
      "7\t16\n",
      "8\t19\n"
     ]
    }
   ],
   "source": [
    "hybridTest(A)"
   ]
  },
  {
   "cell_type": "code",
   "execution_count": 9,
   "id": "98f2c6fa-672f-4c58-bdcc-52b0e92d07b8",
   "metadata": {},
   "outputs": [
    {
     "data": {
      "text/plain": [
       "([23, 23, 23, 23, 23, 23, 23, 23], 12)"
      ]
     },
     "execution_count": 9,
     "metadata": {},
     "output_type": "execute_result"
    }
   ],
   "source": [
    "A = [23, 23, 23, 23, 23, 23, 23, 23]\n",
    "mergeSort(A)"
   ]
  },
  {
   "cell_type": "code",
   "execution_count": 10,
   "id": "2a538fee-4529-4cde-b7d0-790259a872ec",
   "metadata": {},
   "outputs": [
    {
     "data": {
      "text/plain": [
       "([1, 2, 3, 4, 5, 6, 7, 8, 9, 10], 23)"
      ]
     },
     "execution_count": 10,
     "metadata": {},
     "output_type": "execute_result"
    }
   ],
   "source": [
    "A = [3, 7, 9, 6, 10, 8, 4, 1, 5, 2]\n",
    "mergeSort(A)"
   ]
  },
  {
   "cell_type": "code",
   "execution_count": 11,
   "id": "cc178d3f-7d6c-4d27-95f1-707f1721f295",
   "metadata": {},
   "outputs": [
    {
     "name": "stdout",
     "output_type": "stream",
     "text": [
      "S\tKey Comparisons\n",
      "0\t23\n",
      "1\t23\n",
      "2\t23\n",
      "3\t23\n",
      "4\t23\n",
      "5\t23\n",
      "6\t23\n",
      "7\t23\n",
      "8\t23\n",
      "9\t23\n",
      "10\t37\n"
     ]
    }
   ],
   "source": [
    "hybridTest(A)"
   ]
  },
  {
   "cell_type": "code",
   "execution_count": 12,
   "id": "0c7ba453",
   "metadata": {},
   "outputs": [],
   "source": [
    "data_sizes = [1000 * 10**i for i in range(5)]\n",
    "# Generate the data, from 1000 to 10million\n",
    "x = 100000\n",
    "S = 300\n",
    "# we fix S\n",
    "datasets = []\n",
    "key_comparisons = []\n",
    "for size in data_sizes:\n",
    "    A = [random.randint(1, x) for _ in range(size)]\n",
    "    datasets.append(A)\n",
    "    \n",
    "\n",
    "\n"
   ]
  },
  {
   "cell_type": "code",
   "execution_count": 13,
   "id": "e6b46387",
   "metadata": {},
   "outputs": [],
   "source": [
    "for A in datasets:\n",
    "    sortedA, cnt = hybridSort(A, S)\n",
    "    key_comparisons.append(cnt)"
   ]
  },
  {
   "cell_type": "code",
   "execution_count": 14,
   "id": "56f3cdb8",
   "metadata": {},
   "outputs": [
    {
     "data": {
      "image/png": "[encoded data removed]",
      "text/plain": [
       "<Figure size 640x480 with 1 Axes>"
      ]
     },
     "metadata": {},
     "output_type": "display_data"
    }
   ],
   "source": [
    "sb.lineplot(x=data_sizes, y=key_comparisons, marker='o', linewidth=2, color='blue')\n",
    "plt.xscale('log')\n",
    "plt.yscale('log')\n",
    "plt.xlabel(\"Array Size (log scale)\")\n",
    "plt.ylabel(\"Key Comparisons\")\n",
    "plt.title(\"Hybrid Sort with S=10000\")\n",
    "plt.show()"
   ]
  },
  {
   "cell_type": "code",
   "execution_count": 15,
   "id": "97d96cff",
   "metadata": {},
   "outputs": [
    {
     "data": {
      "image/png": "[encoded data removed]",
      "text/plain": [
       "<Figure size 640x480 with 1 Axes>"
      ]
     },
     "metadata": {},
     "output_type": "display_data"
    }
   ],
   "source": [
    "n = 100\n",
    "A = [random.randint(1, x) for _ in range(n)]\n",
    "S_range = [10, 100, 1000, 10000]\n",
    "key_comparisons = []\n",
    "for S in S_range:\n",
    "    sortedA, cnt = hybridSort(A, S)\n",
    "    key_comparisons.append(cnt)\n",
    "    \n",
    "sb.lineplot(x=S_range, y=key_comparisons, marker='o', linewidth=2, color='blue')\n",
    "plt.xlabel(\"S\")\n",
    "plt.ylabel(\"Key Comparisons\")\n",
    "plt.title(\"Hybrid Sort with Array Size=100\")\n",
    "plt.show()"
   ]
  },
  {
   "cell_type": "code",
   "execution_count": 16,
   "id": "9a4a4da3",
   "metadata": {},
   "outputs": [],
   "source": [
    "# Determine optimal value of S\n",
    "# Do a binary search from [1, 1000] (to avoid it being too long)\n",
    "A = [random.randint(1, x) for _ in range(10000)]"
   ]
  }
 ],
 "metadata": {
  "kernelspec": {
   "display_name": "venv",
   "language": "python",
   "name": "venv"
  },
  "language_info": {
   "codemirror_mode": {
    "name": "ipython",
    "version": 3
   },
   "file_extension": ".py",
   "mimetype": "text/x-python",
   "name": "python",
   "nbconvert_exporter": "python",
   "pygments_lexer": "ipython3",
   "version": "3.12.1"
  }
 },
 "nbformat": 4,
 "nbformat_minor": 5
}
