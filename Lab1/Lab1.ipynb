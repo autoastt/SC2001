{
 "cells": [
  {
   "cell_type": "code",
   "execution_count": 1,
   "id": "d95699a5-5f4b-4da0-a202-b2b2e21fdb10",
   "metadata": {},
   "outputs": [],
   "source": [
    "def insertionSort(A: list) -> tuple:\n",
    "    cnt = 0\n",
    "    for i in range(1, len(A)):\n",
    "        for j in range(i, 0, -1):\n",
    "            cnt += 1\n",
    "            if A[j] < A[j - 1]:\n",
    "                A[j], A[j - 1] = A[j - 1], A[j]\n",
    "            else:\n",
    "                break\n",
    "    return (A, cnt)"
   ]
  },
  {
   "cell_type": "code",
   "execution_count": 2,
   "id": "eedad688-b35b-435c-8b97-349bccd1622b",
   "metadata": {},
   "outputs": [],
   "source": [
    "def merge(A: list, B: list) -> tuple:\n",
    "    a, b, cnt = 0, 0, 0\n",
    "    ret = []\n",
    "    while a < len(A) and b < len(B):\n",
    "        cnt += 1\n",
    "        if A[a] < B[b]:\n",
    "            ret.append(A[a])\n",
    "            a += 1\n",
    "        else:\n",
    "            ret.append(B[b])\n",
    "            b += 1\n",
    "    while a < len(A):\n",
    "        ret.append(A[a])\n",
    "        a += 1\n",
    "    while b < len(B):\n",
    "        ret.append(B[b])\n",
    "        b += 1\n",
    "    return (ret, cnt)\n",
    "        \n",
    "def mergeSort(A: list) -> tuple:\n",
    "    if len(A) <= 1:\n",
    "        return (A, 0)\n",
    "    l, r = 0, len(A) - 1\n",
    "    mid = (l + r + 1) // 2\n",
    "    L, cnt_l = mergeSort(A[:mid])\n",
    "    R, cnt_r = mergeSort(A[mid:])\n",
    "    A, cnt_merge = merge(L, R)\n",
    "    return (A, cnt_l + cnt_r + cnt_merge)"
   ]
  },
  {
   "cell_type": "code",
   "execution_count": 3,
   "id": "2a90dbbc-b998-4e86-bc44-00d4609a2fa7",
   "metadata": {},
   "outputs": [],
   "source": [
    "def hybridSort(A: list, S: int) -> tuple:\n",
    "    if len(A) <= S:\n",
    "        return insertionSort(A)\n",
    "    elif len(A) <= 1:\n",
    "        return (A, 0)\n",
    "    l, r = 0, len(A) - 1\n",
    "    mid = (l + r + 1) // 2\n",
    "    L, cnt_l = hybridSort(A[:mid], S)\n",
    "    R, cnt_r = hybridSort(A[mid:], S)\n",
    "    A, cnt_merge = merge(L, R)\n",
    "    return (A, cnt_l + cnt_r + cnt_merge)"
   ]
  },
  {
   "cell_type": "code",
   "execution_count": 4,
   "id": "948ccf60-80cc-405e-acf5-624ca7ccb1fd",
   "metadata": {},
   "outputs": [],
   "source": [
    "def hybridTest(A: list):\n",
    "    tmp = A.copy()\n",
    "    print(\"S\\tKey Comparisons\")\n",
    "    for s in range(len(A) + 1):\n",
    "        A = tmp\n",
    "        print(f\"{s}\\t{hybridSort(A, s)[1]}\")"
   ]
  },
  {
   "cell_type": "code",
   "execution_count": 5,
   "id": "93f3798b-a8d9-4ec7-a9cd-b62ea93d9270",
   "metadata": {},
   "outputs": [
    {
     "data": {
      "text/plain": [
       "([1, 2, 2, 4, 5], 10)"
      ]
     },
     "execution_count": 5,
     "metadata": {},
     "output_type": "execute_result"
    }
   ],
   "source": [
    "A = [5, 2, 4, 2, 1]\n",
    "insertionSort(A)"
   ]
  },
  {
   "cell_type": "code",
   "execution_count": 6,
   "id": "0073ae62-0237-4216-ad4e-3ad9e7173cff",
   "metadata": {},
   "outputs": [
    {
     "data": {
      "text/plain": [
       "([3, 14, 15, 17, 28, 31, 40, 51], 16)"
      ]
     },
     "execution_count": 6,
     "metadata": {},
     "output_type": "execute_result"
    }
   ],
   "source": [
    "A = [14, 40, 31, 28, 3, 15, 17, 51]\n",
    "mergeSort(A)"
   ]
  },
  {
   "cell_type": "code",
   "execution_count": 7,
   "id": "b826df22-7964-4db3-9e0d-77655ac90ddc",
   "metadata": {},
   "outputs": [
    {
     "name": "stdout",
     "output_type": "stream",
     "text": [
      "S\tKey Comparisons\n",
      "0\t16\n",
      "1\t16\n",
      "2\t16\n",
      "3\t16\n",
      "4\t16\n",
      "5\t16\n",
      "6\t16\n",
      "7\t16\n",
      "8\t19\n"
     ]
    }
   ],
   "source": [
    "hybridTest(A)"
   ]
  },
  {
   "cell_type": "code",
   "execution_count": 8,
   "id": "98f2c6fa-672f-4c58-bdcc-52b0e92d07b8",
   "metadata": {},
   "outputs": [
    {
     "data": {
      "text/plain": [
       "([23, 23, 23, 23, 23, 23, 23, 23], 12)"
      ]
     },
     "execution_count": 8,
     "metadata": {},
     "output_type": "execute_result"
    }
   ],
   "source": [
    "A = [23, 23, 23, 23, 23, 23, 23, 23]\n",
    "mergeSort(A)"
   ]
  },
  {
   "cell_type": "code",
   "execution_count": 9,
   "id": "cc178d3f-7d6c-4d27-95f1-707f1721f295",
   "metadata": {},
   "outputs": [
    {
     "name": "stdout",
     "output_type": "stream",
     "text": [
      "S\tKey Comparisons\n",
      "0\t12\n",
      "1\t12\n",
      "2\t12\n",
      "3\t12\n",
      "4\t10\n",
      "5\t10\n",
      "6\t10\n",
      "7\t10\n",
      "8\t7\n"
     ]
    }
   ],
   "source": [
    "hybridTest(A)"
   ]
  }
 ],
 "metadata": {
  "kernelspec": {
   "display_name": "venv",
   "language": "python",
   "name": "venv"
  },
  "language_info": {
   "codemirror_mode": {
    "name": "ipython",
    "version": 3
   },
   "file_extension": ".py",
   "mimetype": "text/x-python",
   "name": "python",
   "nbconvert_exporter": "python",
   "pygments_lexer": "ipython3",
   "version": "3.12.1"
  }
 },
 "nbformat": 4,
 "nbformat_minor": 5
}
